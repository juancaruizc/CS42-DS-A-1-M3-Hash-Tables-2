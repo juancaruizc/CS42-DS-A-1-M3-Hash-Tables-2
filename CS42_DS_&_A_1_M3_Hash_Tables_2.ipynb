{
  "nbformat": 4,
  "nbformat_minor": 0,
  "metadata": {
    "colab": {
      "name": "CS42: DS & A 1: M3: Hash Tables 2",
      "provenance": [],
      "include_colab_link": true
    },
    "kernelspec": {
      "name": "python3",
      "display_name": "Python 3"
    },
    "language_info": {
      "name": "python"
    }
  },
  "cells": [
    {
      "cell_type": "markdown",
      "metadata": {
        "id": "view-in-github",
        "colab_type": "text"
      },
      "source": [
        "<a href=\"https://colab.research.google.com/github/juancaruizc/CS42-DS-A-1-M3-Hash-Tables-2/blob/main/CS42_DS_%26_A_1_M3_Hash_Tables_2.ipynb\" target=\"_parent\"><img src=\"https://colab.research.google.com/assets/colab-badge.svg\" alt=\"Open In Colab\"/></a>"
      ]
    },
    {
      "cell_type": "markdown",
      "metadata": {
        "id": "GkWT4DWWFzLq"
      },
      "source": [
        "# Hash Tables II\n",
        "\n",
        "* Handling collisions\n",
        "* Computing load factor\n",
        "* Using `dict` to map from one set of values to another\n",
        "* Reverse dictionaries to get quick reverse answers\n",
        "* Indexing values\n",
        "\n",
        "**Attendance code: 7348**"
      ]
    },
    {
      "cell_type": "code",
      "metadata": {
        "colab": {
          "base_uri": "https://localhost:8080/"
        },
        "id": "IzwKEKR8Fwtg",
        "outputId": "04950fcd-554c-4667-c63a-5d1887a8c4d4"
      },
      "source": [
        "class HashTable:\n",
        "\n",
        "    def __init__(self):\n",
        "        self.table = []  # Build an array of 8 elements to hold values\n",
        "\n",
        "        self.item_count = 0\n",
        "\n",
        "        for _ in range(2):\n",
        "            self.table.append([])\n",
        "\n",
        "    def hashing_function(self, key):\n",
        "        \"\"\"\n",
        "        Naive hashing function\n",
        "\n",
        "        use a real one like DJB2 or FNV1\n",
        "        \"\"\"\n",
        "        bignum = \"\"\n",
        "\n",
        "        # O(n) over the length of the key\n",
        "        # O(1) over the number of values in the table\n",
        "        for c in key:\n",
        "            bignum += str(ord(c))\n",
        "    \n",
        "        bignum = int(bignum)\n",
        "    \n",
        "        return bignum % len(self.table)  # table size is 8, this always produces a number 0-7\n",
        "\n",
        "    def put(self, key, value):\n",
        "        index = self.hashing_function(key)\n",
        "\n",
        "        entries = self.table[index]\n",
        "\n",
        "        replaced = False  # True if we replaced an existing value\n",
        "\n",
        "        for e in entries:\n",
        "            k = e[0]\n",
        "            if k == key:\n",
        "                e[1] = value   # replace existing value\n",
        "                replaced = True\n",
        "\n",
        "        if not replaced:\n",
        "            self.table[index].append( [key, value] )\n",
        "            self.item_count += 1\n",
        "\n",
        "        # load_factors above 0.65-0.75 are \"too high\"\n",
        "        # We'd want to \"rehash\"--put all the items in a larger table\n",
        "        load_factor = self.item_count / len(self.table)\n",
        "\n",
        "        print(f\"load factor now: {load_factor}\")\n",
        "\n",
        "    def get(self, key):\n",
        "        index = self.hashing_function(key)\n",
        "        entries = self.table[index]\n",
        "\n",
        "        for k, v in entries:  # O(n) over the number of entries in this slot of the table\n",
        "            if k == key:\n",
        "                return v\n",
        "\n",
        "        return None\n",
        "\n",
        "ht = HashTable()\n",
        "\n",
        "#print(ht.hashing_function(\"goatcount\"))\n",
        "#print(ht.hashing_function(\"hello, world\"))\n",
        "\n",
        "print(ht.table)\n",
        "ht.put(\"goatcount\", 9)\n",
        "print(ht.table)\n",
        "ht.put(\"goatcount\", 10)\n",
        "print(ht.table)\n",
        "ht.put(\"goatcount\", 99)\n",
        "print(ht.table)\n",
        "ht.put(\"hello!\", \"foo\")\n",
        "print(ht.table)\n",
        "ht.put(\"test\", \"bar\")  # Causes a collision with \"goatcount\"\n",
        "\n",
        "print(ht.table)\n",
        "\n",
        "print(f\"Value for goatcount: {ht.get('goatcount')}\")\n",
        "print(f\"Value for hello!: {ht.get('hello!')}\")\n",
        "print(f\"Value for test: {ht.get('test')}\")"
      ],
      "execution_count": null,
      "outputs": [
        {
          "output_type": "stream",
          "text": [
            "[[], []]\n",
            "load factor now: 0.5\n",
            "[[['goatcount', 9]], []]\n",
            "load factor now: 0.5\n",
            "[[['goatcount', 10]], []]\n",
            "load factor now: 0.5\n",
            "[[['goatcount', 99]], []]\n",
            "load factor now: 1.0\n",
            "[[['goatcount', 99]], [['hello!', 'foo']]]\n",
            "load factor now: 1.5\n",
            "[[['goatcount', 99], ['test', 'bar']], [['hello!', 'foo']]]\n",
            "Value for goatcount: 99\n",
            "Value for hello!: foo\n",
            "Value for test: bar\n"
          ],
          "name": "stdout"
        }
      ]
    },
    {
      "cell_type": "code",
      "metadata": {
        "colab": {
          "base_uri": "https://localhost:8080/"
        },
        "id": "0WOGGvaEX6dL",
        "outputId": "8e2fd4fd-ba2c-497b-f8b4-46af18d52f9c"
      },
      "source": [
        "import string\n",
        "import random\n",
        "\n",
        "letters = list(string.ascii_uppercase)\n",
        "\n",
        "random.seed(10)\n",
        "random.shuffle(letters)\n",
        "\n",
        "letters\n",
        "\n",
        "print(\"encrypt_map = {\")\n",
        "for i, a in enumerate(string.ascii_uppercase):\n",
        "    #print(a, \"-->\", letters[i]) \n",
        "    print(f\"    '{a}': '{letters[i]}',\")\n",
        "print(\"}\")"
      ],
      "execution_count": null,
      "outputs": [
        {
          "output_type": "stream",
          "text": [
            "encrypt_map = {\n",
            "    'A': 'M',\n",
            "    'B': 'T',\n",
            "    'C': 'X',\n",
            "    'D': 'C',\n",
            "    'E': 'E',\n",
            "    'F': 'K',\n",
            "    'G': 'J',\n",
            "    'H': 'V',\n",
            "    'I': 'L',\n",
            "    'J': 'D',\n",
            "    'K': 'Y',\n",
            "    'L': 'R',\n",
            "    'M': 'H',\n",
            "    'N': 'Q',\n",
            "    'O': 'U',\n",
            "    'P': 'F',\n",
            "    'Q': 'I',\n",
            "    'R': 'W',\n",
            "    'S': 'O',\n",
            "    'T': 'G',\n",
            "    'U': 'A',\n",
            "    'V': 'Z',\n",
            "    'W': 'P',\n",
            "    'X': 'N',\n",
            "    'Y': 'B',\n",
            "    'Z': 'S',\n",
            "}\n"
          ],
          "name": "stdout"
        }
      ]
    },
    {
      "cell_type": "code",
      "metadata": {
        "colab": {
          "base_uri": "https://localhost:8080/"
        },
        "id": "SXwvGRKQYmfY",
        "outputId": "76fd1691-44f1-43e5-efca-92d68dbf7dbf"
      },
      "source": [
        "encrypt_map = {\n",
        "    'A': 'M',\n",
        "    'B': 'T',\n",
        "    'C': 'X',\n",
        "    'D': 'C',\n",
        "    'E': 'E',\n",
        "    'F': 'K',\n",
        "    'G': 'J',\n",
        "    'H': 'V',\n",
        "    'I': 'L',\n",
        "    'J': 'D',\n",
        "    'K': 'Y',\n",
        "    'L': 'R',\n",
        "    'M': 'H',\n",
        "    'N': 'Q',\n",
        "    'O': 'U',\n",
        "    'P': 'F',\n",
        "    'Q': 'I',\n",
        "    'R': 'W',\n",
        "    'S': 'O',\n",
        "    'T': 'G',\n",
        "    'U': 'A',\n",
        "    'V': 'Z',\n",
        "    'W': 'P',\n",
        "    'X': 'N',\n",
        "    'Y': 'B',\n",
        "    'Z': 'S',\n",
        "}\n",
        "\n",
        "# Build the decrypt map from encrypt_map\n",
        "decrypt_map = {}\n",
        "\n",
        "for ek, ev in encrypt_map.items():\n",
        "    decrypt_map[ev] = ek\n",
        "\n",
        "# decrypt_map = {ev: ek for ek, ev in encrypt_map.items()}\n",
        "\n",
        "# Caesar Cipher--easily cracked with \"frequency analysis\"\n",
        "\n",
        "def encrypt(plaintext):\n",
        "    ciphertext = \"\"\n",
        "\n",
        "    for p in plaintext:\n",
        "        if p in encrypt_map:\n",
        "            c = encrypt_map[p]\n",
        "        else:\n",
        "            c = p\n",
        "        ciphertext += c\n",
        "\n",
        "    return ciphertext   # encrypted version\n",
        "\n",
        "def decrypt(ciphertext):\n",
        "    plaintext = \"\"\n",
        "\n",
        "    for c in ciphertext:\n",
        "        if c in decrypt_map:\n",
        "            p = decrypt_map[c]\n",
        "        else:\n",
        "            p = c\n",
        "        plaintext += p\n",
        "\n",
        "    return plaintext   # decrypted version\n",
        "\n",
        "ct = encrypt(\"HELLO WORLD!\") \n",
        "\n",
        "print(decrypt(ct))\n",
        "\n"
      ],
      "execution_count": null,
      "outputs": [
        {
          "output_type": "stream",
          "text": [
            "{'M': 'A', 'T': 'B', 'X': 'C', 'C': 'D', 'E': 'E', 'K': 'F', 'J': 'G', 'V': 'H', 'L': 'I', 'D': 'J', 'Y': 'K', 'R': 'L', 'H': 'M', 'Q': 'N', 'U': 'O', 'F': 'P', 'I': 'Q', 'W': 'R', 'O': 'S', 'G': 'T', 'A': 'U', 'Z': 'V', 'P': 'W', 'N': 'X', 'B': 'Y', 'S': 'Z'}\n",
            "HELLO WORLD!\n"
          ],
          "name": "stdout"
        }
      ]
    },
    {
      "cell_type": "code",
      "metadata": {
        "colab": {
          "base_uri": "https://localhost:8080/"
        },
        "id": "4gfUOT4ueyCT",
        "outputId": "695f4e48-eb91-4c03-d43d-0150f1df3c57"
      },
      "source": [
        "# Indexing\n",
        "\n",
        "# Take a big list and make a dict to quickly look into that list\n",
        "\n",
        "# index 0: name\n",
        "# index 1: department\n",
        "# index 2: location\n",
        "\n",
        "records = [   # Pretend we had, say, a million records\n",
        "    ['Alice', 'Dept1', 'Location1'],\n",
        "    ['Bob', 'Dept2', 'Location1'],\n",
        "    ['Chris', 'Dept2', 'Location2'],\n",
        "    ['Dave', 'Dept3', 'Location2'],\n",
        "    ['Eve', 'Dept1', 'Location3'],\n",
        "]\n",
        "\n",
        "# Question: who are all the employees in Location1?\n",
        "\n",
        "\"\"\"\n",
        "for name, dept, location in records:  # O(n) over the number of records\n",
        "    if location == 'Location1':\n",
        "        print(name)\n",
        "\"\"\"\n",
        "\n",
        "# We have the location, use that as a dictionary key\n",
        "# We want a list of names, use that as the value\n",
        "#\n",
        "# d = {\n",
        "#    \"Location1\": ['Alice', 'Bob']\n",
        "#    \"Location2\": [...]\n",
        "# }\n",
        "\n",
        "location_index = {}\n",
        "\n",
        "for name, dept, location in records:   # O(n) over the number of records, time up front\n",
        "    if location not in location_index:\n",
        "        location_index[location] = []\n",
        "\n",
        "    location_index[location].append(name)\n",
        "\n",
        "# All of these are O(1)\n",
        "print(location_index['Location1'])\n",
        "print(location_index['Location2'])\n",
        "print(location_index['Location2'])\n",
        "print(location_index['Location3'])\n",
        "print(location_index['Location2'])\n",
        "\n"
      ],
      "execution_count": null,
      "outputs": [
        {
          "output_type": "stream",
          "text": [
            "['Alice', 'Bob']\n",
            "['Chris', 'Dave']\n",
            "['Chris', 'Dave']\n",
            "['Eve']\n",
            "['Chris', 'Dave']\n"
          ],
          "name": "stdout"
        }
      ]
    }
  ]
}